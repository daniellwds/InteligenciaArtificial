{
  "nbformat": 4,
  "nbformat_minor": 0,
  "metadata": {
    "kernelspec": {
      "name": "python395jvsc74a57bd0cd4a0de22f915bec2726fa097c86af3e828a6c448cffc0f50bf692f6d991396a",
      "display_name": "Python 3.9.5 64-bit"
    },
    "language_info": {
      "codemirror_mode": {
        "name": "ipython",
        "version": 3
      },
      "file_extension": ".py",
      "mimetype": "text/x-python",
      "name": "python",
      "nbconvert_exporter": "python",
      "pygments_lexer": "ipython3",
      "version": "3.9.5"
    },
    "metadata": {
      "interpreter": {
        "hash": "cd4a0de22f915bec2726fa097c86af3e828a6c448cffc0f50bf692f6d991396a"
      }
    },
    "colab": {
      "name": "BTC-USD.ipynb",
      "provenance": [],
      "collapsed_sections": [],
      "toc_visible": true
    }
  },
  "cells": [
    {
      "cell_type": "code",
      "metadata": {
        "id": "wrQ84vevIGFD"
      },
      "source": [
        "import pandas as pd\n",
        "from keras.models import Sequential\n",
        "from keras.layers import Dense, Dropout, LSTM\n",
        "import plotly.graph_objects as go \n",
        "import numpy as np\n",
        "import matplotlib.pyplot as plt\n",
        "import seaborn as sns\n",
        "%matplotlib inline"
      ],
      "execution_count": 1,
      "outputs": []
    },
    {
      "cell_type": "code",
      "metadata": {
        "id": "sDRJVnhQIGFF"
      },
      "source": [
        "DataSet=pd.read_csv('BTC-USD_LAST_30_DAYS.csv')"
      ],
      "execution_count": 16,
      "outputs": []
    },
    {
      "cell_type": "code",
      "metadata": {
        "colab": {
          "base_uri": "https://localhost:8080/",
          "height": 965
        },
        "id": "3tzPSvWLL8ps",
        "outputId": "7cbd8ca9-db0a-48aa-bd5d-2edc345cf470"
      },
      "source": [
        "DataSet"
      ],
      "execution_count": 17,
      "outputs": [
        {
          "output_type": "execute_result",
          "data": {
            "text/html": [
              "<div>\n",
              "<style scoped>\n",
              "    .dataframe tbody tr th:only-of-type {\n",
              "        vertical-align: middle;\n",
              "    }\n",
              "\n",
              "    .dataframe tbody tr th {\n",
              "        vertical-align: top;\n",
              "    }\n",
              "\n",
              "    .dataframe thead th {\n",
              "        text-align: right;\n",
              "    }\n",
              "</style>\n",
              "<table border=\"1\" class=\"dataframe\">\n",
              "  <thead>\n",
              "    <tr style=\"text-align: right;\">\n",
              "      <th></th>\n",
              "      <th>Date</th>\n",
              "      <th>Open</th>\n",
              "      <th>High</th>\n",
              "      <th>Low</th>\n",
              "      <th>Close</th>\n",
              "      <th>Adj Close</th>\n",
              "      <th>Volume</th>\n",
              "    </tr>\n",
              "  </thead>\n",
              "  <tbody>\n",
              "    <tr>\n",
              "      <th>0</th>\n",
              "      <td>2021-04-17</td>\n",
              "      <td>61529.921875</td>\n",
              "      <td>62572.175781</td>\n",
              "      <td>60361.351563</td>\n",
              "      <td>60683.820313</td>\n",
              "      <td>60683.820313</td>\n",
              "      <td>66138759198</td>\n",
              "    </tr>\n",
              "    <tr>\n",
              "      <th>1</th>\n",
              "      <td>2021-04-18</td>\n",
              "      <td>60701.886719</td>\n",
              "      <td>61057.457031</td>\n",
              "      <td>52829.535156</td>\n",
              "      <td>56216.183594</td>\n",
              "      <td>56216.183594</td>\n",
              "      <td>97468872758</td>\n",
              "    </tr>\n",
              "    <tr>\n",
              "      <th>2</th>\n",
              "      <td>2021-04-19</td>\n",
              "      <td>56191.585938</td>\n",
              "      <td>57520.054688</td>\n",
              "      <td>54368.593750</td>\n",
              "      <td>55724.265625</td>\n",
              "      <td>55724.265625</td>\n",
              "      <td>65344865159</td>\n",
              "    </tr>\n",
              "    <tr>\n",
              "      <th>3</th>\n",
              "      <td>2021-04-20</td>\n",
              "      <td>55681.792969</td>\n",
              "      <td>57062.148438</td>\n",
              "      <td>53448.046875</td>\n",
              "      <td>56473.031250</td>\n",
              "      <td>56473.031250</td>\n",
              "      <td>67849323955</td>\n",
              "    </tr>\n",
              "    <tr>\n",
              "      <th>4</th>\n",
              "      <td>2021-04-21</td>\n",
              "      <td>56471.128906</td>\n",
              "      <td>56757.972656</td>\n",
              "      <td>53695.468750</td>\n",
              "      <td>53906.089844</td>\n",
              "      <td>53906.089844</td>\n",
              "      <td>54926612466</td>\n",
              "    </tr>\n",
              "    <tr>\n",
              "      <th>5</th>\n",
              "      <td>2021-04-22</td>\n",
              "      <td>53857.105469</td>\n",
              "      <td>55410.230469</td>\n",
              "      <td>50583.812500</td>\n",
              "      <td>51762.273438</td>\n",
              "      <td>51762.273438</td>\n",
              "      <td>74798630778</td>\n",
              "    </tr>\n",
              "    <tr>\n",
              "      <th>6</th>\n",
              "      <td>2021-04-23</td>\n",
              "      <td>51739.808594</td>\n",
              "      <td>52120.792969</td>\n",
              "      <td>47714.664063</td>\n",
              "      <td>51093.652344</td>\n",
              "      <td>51093.652344</td>\n",
              "      <td>86668667320</td>\n",
              "    </tr>\n",
              "    <tr>\n",
              "      <th>7</th>\n",
              "      <td>2021-04-24</td>\n",
              "      <td>51143.226563</td>\n",
              "      <td>51167.562500</td>\n",
              "      <td>48805.285156</td>\n",
              "      <td>50050.867188</td>\n",
              "      <td>50050.867188</td>\n",
              "      <td>49014494781</td>\n",
              "    </tr>\n",
              "    <tr>\n",
              "      <th>8</th>\n",
              "      <td>2021-04-25</td>\n",
              "      <td>50052.832031</td>\n",
              "      <td>50506.019531</td>\n",
              "      <td>47159.484375</td>\n",
              "      <td>49004.253906</td>\n",
              "      <td>49004.253906</td>\n",
              "      <td>46117114240</td>\n",
              "    </tr>\n",
              "    <tr>\n",
              "      <th>9</th>\n",
              "      <td>2021-04-26</td>\n",
              "      <td>49077.792969</td>\n",
              "      <td>54288.003906</td>\n",
              "      <td>48852.796875</td>\n",
              "      <td>54021.753906</td>\n",
              "      <td>54021.753906</td>\n",
              "      <td>58284039825</td>\n",
              "    </tr>\n",
              "    <tr>\n",
              "      <th>10</th>\n",
              "      <td>2021-04-27</td>\n",
              "      <td>54030.304688</td>\n",
              "      <td>55416.964844</td>\n",
              "      <td>53319.187500</td>\n",
              "      <td>55033.117188</td>\n",
              "      <td>55033.117188</td>\n",
              "      <td>49448222757</td>\n",
              "    </tr>\n",
              "    <tr>\n",
              "      <th>11</th>\n",
              "      <td>2021-04-28</td>\n",
              "      <td>55036.636719</td>\n",
              "      <td>56227.207031</td>\n",
              "      <td>53887.917969</td>\n",
              "      <td>54824.703125</td>\n",
              "      <td>54824.703125</td>\n",
              "      <td>48000572955</td>\n",
              "    </tr>\n",
              "    <tr>\n",
              "      <th>12</th>\n",
              "      <td>2021-04-29</td>\n",
              "      <td>54858.089844</td>\n",
              "      <td>55115.843750</td>\n",
              "      <td>52418.027344</td>\n",
              "      <td>53555.109375</td>\n",
              "      <td>53555.109375</td>\n",
              "      <td>46088929780</td>\n",
              "    </tr>\n",
              "    <tr>\n",
              "      <th>13</th>\n",
              "      <td>2021-04-30</td>\n",
              "      <td>53568.664063</td>\n",
              "      <td>57900.718750</td>\n",
              "      <td>53129.601563</td>\n",
              "      <td>57750.175781</td>\n",
              "      <td>57750.175781</td>\n",
              "      <td>52395931985</td>\n",
              "    </tr>\n",
              "    <tr>\n",
              "      <th>14</th>\n",
              "      <td>2021-05-01</td>\n",
              "      <td>57714.664063</td>\n",
              "      <td>58448.339844</td>\n",
              "      <td>57052.273438</td>\n",
              "      <td>57828.050781</td>\n",
              "      <td>57828.050781</td>\n",
              "      <td>42836427360</td>\n",
              "    </tr>\n",
              "    <tr>\n",
              "      <th>15</th>\n",
              "      <td>2021-05-02</td>\n",
              "      <td>57825.863281</td>\n",
              "      <td>57902.593750</td>\n",
              "      <td>56141.906250</td>\n",
              "      <td>56631.078125</td>\n",
              "      <td>56631.078125</td>\n",
              "      <td>38177405335</td>\n",
              "    </tr>\n",
              "    <tr>\n",
              "      <th>16</th>\n",
              "      <td>2021-05-03</td>\n",
              "      <td>56620.273438</td>\n",
              "      <td>58973.308594</td>\n",
              "      <td>56590.871094</td>\n",
              "      <td>57200.292969</td>\n",
              "      <td>57200.292969</td>\n",
              "      <td>51713139031</td>\n",
              "    </tr>\n",
              "    <tr>\n",
              "      <th>17</th>\n",
              "      <td>2021-05-04</td>\n",
              "      <td>57214.179688</td>\n",
              "      <td>57214.179688</td>\n",
              "      <td>53191.425781</td>\n",
              "      <td>53333.539063</td>\n",
              "      <td>53333.539063</td>\n",
              "      <td>68564706967</td>\n",
              "    </tr>\n",
              "    <tr>\n",
              "      <th>18</th>\n",
              "      <td>2021-05-05</td>\n",
              "      <td>53252.164063</td>\n",
              "      <td>57911.363281</td>\n",
              "      <td>52969.054688</td>\n",
              "      <td>57424.007813</td>\n",
              "      <td>57424.007813</td>\n",
              "      <td>69241316747</td>\n",
              "    </tr>\n",
              "    <tr>\n",
              "      <th>19</th>\n",
              "      <td>2021-05-06</td>\n",
              "      <td>57441.308594</td>\n",
              "      <td>58363.316406</td>\n",
              "      <td>55382.507813</td>\n",
              "      <td>56396.515625</td>\n",
              "      <td>56396.515625</td>\n",
              "      <td>69523285106</td>\n",
              "    </tr>\n",
              "    <tr>\n",
              "      <th>20</th>\n",
              "      <td>2021-05-07</td>\n",
              "      <td>56413.953125</td>\n",
              "      <td>58606.632813</td>\n",
              "      <td>55321.847656</td>\n",
              "      <td>57356.402344</td>\n",
              "      <td>57356.402344</td>\n",
              "      <td>68434023376</td>\n",
              "    </tr>\n",
              "    <tr>\n",
              "      <th>21</th>\n",
              "      <td>2021-05-08</td>\n",
              "      <td>57352.765625</td>\n",
              "      <td>59464.613281</td>\n",
              "      <td>56975.210938</td>\n",
              "      <td>58803.777344</td>\n",
              "      <td>58803.777344</td>\n",
              "      <td>65382980634</td>\n",
              "    </tr>\n",
              "    <tr>\n",
              "      <th>22</th>\n",
              "      <td>2021-05-09</td>\n",
              "      <td>58877.390625</td>\n",
              "      <td>59210.882813</td>\n",
              "      <td>56482.003906</td>\n",
              "      <td>58232.316406</td>\n",
              "      <td>58232.316406</td>\n",
              "      <td>65906690347</td>\n",
              "    </tr>\n",
              "    <tr>\n",
              "      <th>23</th>\n",
              "      <td>2021-05-10</td>\n",
              "      <td>58250.871094</td>\n",
              "      <td>59519.355469</td>\n",
              "      <td>54071.457031</td>\n",
              "      <td>55859.796875</td>\n",
              "      <td>55859.796875</td>\n",
              "      <td>71776546298</td>\n",
              "    </tr>\n",
              "    <tr>\n",
              "      <th>24</th>\n",
              "      <td>2021-05-11</td>\n",
              "      <td>55847.242188</td>\n",
              "      <td>56872.542969</td>\n",
              "      <td>54608.652344</td>\n",
              "      <td>56704.574219</td>\n",
              "      <td>56704.574219</td>\n",
              "      <td>61308396325</td>\n",
              "    </tr>\n",
              "    <tr>\n",
              "      <th>25</th>\n",
              "      <td>2021-05-12</td>\n",
              "      <td>56714.531250</td>\n",
              "      <td>57939.363281</td>\n",
              "      <td>49150.535156</td>\n",
              "      <td>49150.535156</td>\n",
              "      <td>49150.535156</td>\n",
              "      <td>75215403907</td>\n",
              "    </tr>\n",
              "    <tr>\n",
              "      <th>26</th>\n",
              "      <td>2021-05-13</td>\n",
              "      <td>49735.433594</td>\n",
              "      <td>51330.843750</td>\n",
              "      <td>46980.019531</td>\n",
              "      <td>49716.191406</td>\n",
              "      <td>49716.191406</td>\n",
              "      <td>96721152926</td>\n",
              "    </tr>\n",
              "    <tr>\n",
              "      <th>27</th>\n",
              "      <td>2021-05-14</td>\n",
              "      <td>49682.980469</td>\n",
              "      <td>51438.117188</td>\n",
              "      <td>48868.578125</td>\n",
              "      <td>49880.535156</td>\n",
              "      <td>49880.535156</td>\n",
              "      <td>55737497453</td>\n",
              "    </tr>\n",
              "    <tr>\n",
              "      <th>28</th>\n",
              "      <td>2021-05-15</td>\n",
              "      <td>49855.496094</td>\n",
              "      <td>50639.664063</td>\n",
              "      <td>46664.140625</td>\n",
              "      <td>46760.187500</td>\n",
              "      <td>46760.187500</td>\n",
              "      <td>59161047474</td>\n",
              "    </tr>\n",
              "    <tr>\n",
              "      <th>29</th>\n",
              "      <td>2021-05-16</td>\n",
              "      <td>46716.636719</td>\n",
              "      <td>49720.042969</td>\n",
              "      <td>43963.351563</td>\n",
              "      <td>46456.058594</td>\n",
              "      <td>46456.058594</td>\n",
              "      <td>64047871555</td>\n",
              "    </tr>\n",
              "    <tr>\n",
              "      <th>30</th>\n",
              "      <td>2021-05-17</td>\n",
              "      <td>46415.898438</td>\n",
              "      <td>46623.558594</td>\n",
              "      <td>42207.289063</td>\n",
              "      <td>43537.511719</td>\n",
              "      <td>43537.511719</td>\n",
              "      <td>74903638450</td>\n",
              "    </tr>\n",
              "  </tbody>\n",
              "</table>\n",
              "</div>"
            ],
            "text/plain": [
              "          Date          Open  ...     Adj Close       Volume\n",
              "0   2021-04-17  61529.921875  ...  60683.820313  66138759198\n",
              "1   2021-04-18  60701.886719  ...  56216.183594  97468872758\n",
              "2   2021-04-19  56191.585938  ...  55724.265625  65344865159\n",
              "3   2021-04-20  55681.792969  ...  56473.031250  67849323955\n",
              "4   2021-04-21  56471.128906  ...  53906.089844  54926612466\n",
              "5   2021-04-22  53857.105469  ...  51762.273438  74798630778\n",
              "6   2021-04-23  51739.808594  ...  51093.652344  86668667320\n",
              "7   2021-04-24  51143.226563  ...  50050.867188  49014494781\n",
              "8   2021-04-25  50052.832031  ...  49004.253906  46117114240\n",
              "9   2021-04-26  49077.792969  ...  54021.753906  58284039825\n",
              "10  2021-04-27  54030.304688  ...  55033.117188  49448222757\n",
              "11  2021-04-28  55036.636719  ...  54824.703125  48000572955\n",
              "12  2021-04-29  54858.089844  ...  53555.109375  46088929780\n",
              "13  2021-04-30  53568.664063  ...  57750.175781  52395931985\n",
              "14  2021-05-01  57714.664063  ...  57828.050781  42836427360\n",
              "15  2021-05-02  57825.863281  ...  56631.078125  38177405335\n",
              "16  2021-05-03  56620.273438  ...  57200.292969  51713139031\n",
              "17  2021-05-04  57214.179688  ...  53333.539063  68564706967\n",
              "18  2021-05-05  53252.164063  ...  57424.007813  69241316747\n",
              "19  2021-05-06  57441.308594  ...  56396.515625  69523285106\n",
              "20  2021-05-07  56413.953125  ...  57356.402344  68434023376\n",
              "21  2021-05-08  57352.765625  ...  58803.777344  65382980634\n",
              "22  2021-05-09  58877.390625  ...  58232.316406  65906690347\n",
              "23  2021-05-10  58250.871094  ...  55859.796875  71776546298\n",
              "24  2021-05-11  55847.242188  ...  56704.574219  61308396325\n",
              "25  2021-05-12  56714.531250  ...  49150.535156  75215403907\n",
              "26  2021-05-13  49735.433594  ...  49716.191406  96721152926\n",
              "27  2021-05-14  49682.980469  ...  49880.535156  55737497453\n",
              "28  2021-05-15  49855.496094  ...  46760.187500  59161047474\n",
              "29  2021-05-16  46716.636719  ...  46456.058594  64047871555\n",
              "30  2021-05-17  46415.898438  ...  43537.511719  74903638450\n",
              "\n",
              "[31 rows x 7 columns]"
            ]
          },
          "metadata": {
            "tags": []
          },
          "execution_count": 17
        }
      ]
    },
    {
      "cell_type": "code",
      "metadata": {
        "colab": {
          "base_uri": "https://localhost:8080/",
          "height": 542
        },
        "id": "JF6DVbIsIGFG",
        "outputId": "1a0bae10-46aa-47c5-d8db-01e9f8c6b0be"
      },
      "source": [
        "fig = go.Figure(data=[go.Candlestick(x=DataSet['Date'],\n",
        "                open=DataSet['Open'], high=DataSet['High'],\n",
        "                low=DataSet['Low'], close=DataSet['Close'])])\n",
        "\n",
        "fig.update_layout(xaxis_rangeslider_visible=False)  \n",
        "fig.show()\n",
        "\n"
      ],
      "execution_count": 19,
      "outputs": [
        {
          "output_type": "display_data",
          "data": {
            "text/html": [
              "<html>\n",
              "<head><meta charset=\"utf-8\" /></head>\n",
              "<body>\n",
              "    <div>\n",
              "            <script src=\"https://cdnjs.cloudflare.com/ajax/libs/mathjax/2.7.5/MathJax.js?config=TeX-AMS-MML_SVG\"></script><script type=\"text/javascript\">if (window.MathJax) {MathJax.Hub.Config({SVG: {font: \"STIX-Web\"}});}</script>\n",
              "                <script type=\"text/javascript\">window.PlotlyConfig = {MathJaxConfig: 'local'};</script>\n",
              "        <script src=\"https://cdn.plot.ly/plotly-latest.min.js\"></script>    \n",
              "            <div id=\"9cfc2802-9736-4fe0-b7c7-12177d6b2606\" class=\"plotly-graph-div\" style=\"height:525px; width:100%;\"></div>\n",
              "            <script type=\"text/javascript\">\n",
              "                \n",
              "                    window.PLOTLYENV=window.PLOTLYENV || {};\n",
              "                    \n",
              "                if (document.getElementById(\"9cfc2802-9736-4fe0-b7c7-12177d6b2606\")) {\n",
              "                    Plotly.newPlot(\n",
              "                        '9cfc2802-9736-4fe0-b7c7-12177d6b2606',\n",
              "                        [{\"close\": [60683.820313, 56216.18359400001, 55724.265625, 56473.03125, 53906.08984400001, 51762.273438, 51093.652344, 50050.867188, 49004.253906, 54021.75390599999, 55033.117188, 54824.703125, 53555.109375, 57750.17578099999, 57828.05078099999, 56631.078125, 57200.29296900001, 53333.539063, 57424.007813, 56396.515625, 57356.40234400001, 58803.77734400001, 58232.31640599999, 55859.796875, 56704.57421900001, 49150.535156, 49716.191406, 49880.535156, 46760.1875, 46456.058594, 43537.511719], \"high\": [62572.17578099999, 61057.45703099999, 57520.054688, 57062.148438, 56757.97265599999, 55410.23046900001, 52120.792969, 51167.5625, 50506.019531, 54288.00390599999, 55416.96484400001, 56227.20703099999, 55115.84375, 57900.71875, 58448.33984400001, 57902.59375, 58973.30859400001, 57214.179688, 57911.36328099999, 58363.31640599999, 58606.632813, 59464.61328099999, 59210.882813, 59519.35546900001, 56872.54296900001, 57939.36328099999, 51330.84375, 51438.117188, 50639.664063, 49720.042969, 46623.558594], \"low\": [60361.351563, 52829.535156, 54368.59375, 53448.046875, 53695.46875, 50583.8125, 47714.664063, 48805.285156, 47159.484375, 48852.796875, 53319.1875, 53887.91796900001, 52418.027344, 53129.601563, 57052.273438, 56141.90625, 56590.87109400001, 53191.425781, 52969.054688, 55382.507813, 55321.84765599999, 56975.210938, 56482.00390599999, 54071.45703099999, 54608.65234400001, 49150.535156, 46980.019531, 48868.578125, 46664.140625, 43963.351563, 42207.289063], \"open\": [61529.921875, 60701.88671900001, 56191.585938, 55681.79296900001, 56471.12890599999, 53857.10546900001, 51739.808594, 51143.226563, 50052.832031, 49077.792969, 54030.304688, 55036.63671900001, 54858.08984400001, 53568.664063, 57714.664063, 57825.86328099999, 56620.273438, 57214.179688, 53252.164063, 57441.30859400001, 56413.953125, 57352.765625, 58877.390625, 58250.87109400001, 55847.242188, 56714.53125, 49735.433594, 49682.980469, 49855.496094, 46716.636719, 46415.898438], \"type\": \"candlestick\", \"x\": [\"2021-04-17\", \"2021-04-18\", \"2021-04-19\", \"2021-04-20\", \"2021-04-21\", \"2021-04-22\", \"2021-04-23\", \"2021-04-24\", \"2021-04-25\", \"2021-04-26\", \"2021-04-27\", \"2021-04-28\", \"2021-04-29\", \"2021-04-30\", \"2021-05-01\", \"2021-05-02\", \"2021-05-03\", \"2021-05-04\", \"2021-05-05\", \"2021-05-06\", \"2021-05-07\", \"2021-05-08\", \"2021-05-09\", \"2021-05-10\", \"2021-05-11\", \"2021-05-12\", \"2021-05-13\", \"2021-05-14\", \"2021-05-15\", \"2021-05-16\", \"2021-05-17\"]}],\n",
              "                        {\"template\": {\"data\": {\"bar\": [{\"error_x\": {\"color\": \"#2a3f5f\"}, \"error_y\": {\"color\": \"#2a3f5f\"}, \"marker\": {\"line\": {\"color\": \"#E5ECF6\", \"width\": 0.5}}, \"type\": \"bar\"}], \"barpolar\": [{\"marker\": {\"line\": {\"color\": \"#E5ECF6\", \"width\": 0.5}}, \"type\": \"barpolar\"}], \"carpet\": [{\"aaxis\": {\"endlinecolor\": \"#2a3f5f\", \"gridcolor\": \"white\", \"linecolor\": \"white\", \"minorgridcolor\": \"white\", \"startlinecolor\": \"#2a3f5f\"}, \"baxis\": {\"endlinecolor\": \"#2a3f5f\", \"gridcolor\": \"white\", \"linecolor\": \"white\", \"minorgridcolor\": \"white\", \"startlinecolor\": \"#2a3f5f\"}, \"type\": \"carpet\"}], \"choropleth\": [{\"colorbar\": {\"outlinewidth\": 0, \"ticks\": \"\"}, \"type\": \"choropleth\"}], \"contour\": [{\"colorbar\": {\"outlinewidth\": 0, \"ticks\": \"\"}, \"colorscale\": [[0.0, \"#0d0887\"], [0.1111111111111111, \"#46039f\"], [0.2222222222222222, \"#7201a8\"], [0.3333333333333333, \"#9c179e\"], [0.4444444444444444, \"#bd3786\"], [0.5555555555555556, \"#d8576b\"], [0.6666666666666666, \"#ed7953\"], [0.7777777777777778, \"#fb9f3a\"], [0.8888888888888888, \"#fdca26\"], [1.0, \"#f0f921\"]], \"type\": \"contour\"}], \"contourcarpet\": [{\"colorbar\": {\"outlinewidth\": 0, \"ticks\": \"\"}, \"type\": \"contourcarpet\"}], \"heatmap\": [{\"colorbar\": {\"outlinewidth\": 0, \"ticks\": \"\"}, \"colorscale\": [[0.0, \"#0d0887\"], [0.1111111111111111, \"#46039f\"], [0.2222222222222222, \"#7201a8\"], [0.3333333333333333, \"#9c179e\"], [0.4444444444444444, \"#bd3786\"], [0.5555555555555556, \"#d8576b\"], [0.6666666666666666, \"#ed7953\"], [0.7777777777777778, \"#fb9f3a\"], [0.8888888888888888, \"#fdca26\"], [1.0, \"#f0f921\"]], \"type\": \"heatmap\"}], \"heatmapgl\": [{\"colorbar\": {\"outlinewidth\": 0, \"ticks\": \"\"}, \"colorscale\": [[0.0, \"#0d0887\"], [0.1111111111111111, \"#46039f\"], [0.2222222222222222, \"#7201a8\"], [0.3333333333333333, \"#9c179e\"], [0.4444444444444444, \"#bd3786\"], [0.5555555555555556, \"#d8576b\"], [0.6666666666666666, \"#ed7953\"], [0.7777777777777778, \"#fb9f3a\"], [0.8888888888888888, \"#fdca26\"], [1.0, \"#f0f921\"]], \"type\": \"heatmapgl\"}], \"histogram\": [{\"marker\": {\"colorbar\": {\"outlinewidth\": 0, \"ticks\": \"\"}}, \"type\": \"histogram\"}], \"histogram2d\": [{\"colorbar\": {\"outlinewidth\": 0, \"ticks\": \"\"}, \"colorscale\": [[0.0, \"#0d0887\"], [0.1111111111111111, \"#46039f\"], [0.2222222222222222, \"#7201a8\"], [0.3333333333333333, \"#9c179e\"], [0.4444444444444444, \"#bd3786\"], [0.5555555555555556, \"#d8576b\"], [0.6666666666666666, \"#ed7953\"], [0.7777777777777778, \"#fb9f3a\"], [0.8888888888888888, \"#fdca26\"], [1.0, \"#f0f921\"]], \"type\": \"histogram2d\"}], \"histogram2dcontour\": [{\"colorbar\": {\"outlinewidth\": 0, \"ticks\": \"\"}, \"colorscale\": [[0.0, \"#0d0887\"], [0.1111111111111111, \"#46039f\"], [0.2222222222222222, \"#7201a8\"], [0.3333333333333333, \"#9c179e\"], [0.4444444444444444, \"#bd3786\"], [0.5555555555555556, \"#d8576b\"], [0.6666666666666666, \"#ed7953\"], [0.7777777777777778, \"#fb9f3a\"], [0.8888888888888888, \"#fdca26\"], [1.0, \"#f0f921\"]], \"type\": \"histogram2dcontour\"}], \"mesh3d\": [{\"colorbar\": {\"outlinewidth\": 0, \"ticks\": \"\"}, \"type\": \"mesh3d\"}], \"parcoords\": [{\"line\": {\"colorbar\": {\"outlinewidth\": 0, \"ticks\": \"\"}}, \"type\": \"parcoords\"}], \"pie\": [{\"automargin\": true, \"type\": \"pie\"}], \"scatter\": [{\"marker\": {\"colorbar\": {\"outlinewidth\": 0, \"ticks\": \"\"}}, \"type\": \"scatter\"}], \"scatter3d\": [{\"line\": {\"colorbar\": {\"outlinewidth\": 0, \"ticks\": \"\"}}, \"marker\": {\"colorbar\": {\"outlinewidth\": 0, \"ticks\": \"\"}}, \"type\": \"scatter3d\"}], \"scattercarpet\": [{\"marker\": {\"colorbar\": {\"outlinewidth\": 0, \"ticks\": \"\"}}, \"type\": \"scattercarpet\"}], \"scattergeo\": [{\"marker\": {\"colorbar\": {\"outlinewidth\": 0, \"ticks\": \"\"}}, \"type\": \"scattergeo\"}], \"scattergl\": [{\"marker\": {\"colorbar\": {\"outlinewidth\": 0, \"ticks\": \"\"}}, \"type\": \"scattergl\"}], \"scattermapbox\": [{\"marker\": {\"colorbar\": {\"outlinewidth\": 0, \"ticks\": \"\"}}, \"type\": \"scattermapbox\"}], \"scatterpolar\": [{\"marker\": {\"colorbar\": {\"outlinewidth\": 0, \"ticks\": \"\"}}, \"type\": \"scatterpolar\"}], \"scatterpolargl\": [{\"marker\": {\"colorbar\": {\"outlinewidth\": 0, \"ticks\": \"\"}}, \"type\": \"scatterpolargl\"}], \"scatterternary\": [{\"marker\": {\"colorbar\": {\"outlinewidth\": 0, \"ticks\": \"\"}}, \"type\": \"scatterternary\"}], \"surface\": [{\"colorbar\": {\"outlinewidth\": 0, \"ticks\": \"\"}, \"colorscale\": [[0.0, \"#0d0887\"], [0.1111111111111111, \"#46039f\"], [0.2222222222222222, \"#7201a8\"], [0.3333333333333333, \"#9c179e\"], [0.4444444444444444, \"#bd3786\"], [0.5555555555555556, \"#d8576b\"], [0.6666666666666666, \"#ed7953\"], [0.7777777777777778, \"#fb9f3a\"], [0.8888888888888888, \"#fdca26\"], [1.0, \"#f0f921\"]], \"type\": \"surface\"}], \"table\": [{\"cells\": {\"fill\": {\"color\": \"#EBF0F8\"}, \"line\": {\"color\": \"white\"}}, \"header\": {\"fill\": {\"color\": \"#C8D4E3\"}, \"line\": {\"color\": \"white\"}}, \"type\": \"table\"}]}, \"layout\": {\"annotationdefaults\": {\"arrowcolor\": \"#2a3f5f\", \"arrowhead\": 0, \"arrowwidth\": 1}, \"coloraxis\": {\"colorbar\": {\"outlinewidth\": 0, \"ticks\": \"\"}}, \"colorscale\": {\"diverging\": [[0, \"#8e0152\"], [0.1, \"#c51b7d\"], [0.2, \"#de77ae\"], [0.3, \"#f1b6da\"], [0.4, \"#fde0ef\"], [0.5, \"#f7f7f7\"], [0.6, \"#e6f5d0\"], [0.7, \"#b8e186\"], [0.8, \"#7fbc41\"], [0.9, \"#4d9221\"], [1, \"#276419\"]], \"sequential\": [[0.0, \"#0d0887\"], [0.1111111111111111, \"#46039f\"], [0.2222222222222222, \"#7201a8\"], [0.3333333333333333, \"#9c179e\"], [0.4444444444444444, \"#bd3786\"], [0.5555555555555556, \"#d8576b\"], [0.6666666666666666, \"#ed7953\"], [0.7777777777777778, \"#fb9f3a\"], [0.8888888888888888, \"#fdca26\"], [1.0, \"#f0f921\"]], \"sequentialminus\": [[0.0, \"#0d0887\"], [0.1111111111111111, \"#46039f\"], [0.2222222222222222, \"#7201a8\"], [0.3333333333333333, \"#9c179e\"], [0.4444444444444444, \"#bd3786\"], [0.5555555555555556, \"#d8576b\"], [0.6666666666666666, \"#ed7953\"], [0.7777777777777778, \"#fb9f3a\"], [0.8888888888888888, \"#fdca26\"], [1.0, \"#f0f921\"]]}, \"colorway\": [\"#636efa\", \"#EF553B\", \"#00cc96\", \"#ab63fa\", \"#FFA15A\", \"#19d3f3\", \"#FF6692\", \"#B6E880\", \"#FF97FF\", \"#FECB52\"], \"font\": {\"color\": \"#2a3f5f\"}, \"geo\": {\"bgcolor\": \"white\", \"lakecolor\": \"white\", \"landcolor\": \"#E5ECF6\", \"showlakes\": true, \"showland\": true, \"subunitcolor\": \"white\"}, \"hoverlabel\": {\"align\": \"left\"}, \"hovermode\": \"closest\", \"mapbox\": {\"style\": \"light\"}, \"paper_bgcolor\": \"white\", \"plot_bgcolor\": \"#E5ECF6\", \"polar\": {\"angularaxis\": {\"gridcolor\": \"white\", \"linecolor\": \"white\", \"ticks\": \"\"}, \"bgcolor\": \"#E5ECF6\", \"radialaxis\": {\"gridcolor\": \"white\", \"linecolor\": \"white\", \"ticks\": \"\"}}, \"scene\": {\"xaxis\": {\"backgroundcolor\": \"#E5ECF6\", \"gridcolor\": \"white\", \"gridwidth\": 2, \"linecolor\": \"white\", \"showbackground\": true, \"ticks\": \"\", \"zerolinecolor\": \"white\"}, \"yaxis\": {\"backgroundcolor\": \"#E5ECF6\", \"gridcolor\": \"white\", \"gridwidth\": 2, \"linecolor\": \"white\", \"showbackground\": true, \"ticks\": \"\", \"zerolinecolor\": \"white\"}, \"zaxis\": {\"backgroundcolor\": \"#E5ECF6\", \"gridcolor\": \"white\", \"gridwidth\": 2, \"linecolor\": \"white\", \"showbackground\": true, \"ticks\": \"\", \"zerolinecolor\": \"white\"}}, \"shapedefaults\": {\"line\": {\"color\": \"#2a3f5f\"}}, \"ternary\": {\"aaxis\": {\"gridcolor\": \"white\", \"linecolor\": \"white\", \"ticks\": \"\"}, \"baxis\": {\"gridcolor\": \"white\", \"linecolor\": \"white\", \"ticks\": \"\"}, \"bgcolor\": \"#E5ECF6\", \"caxis\": {\"gridcolor\": \"white\", \"linecolor\": \"white\", \"ticks\": \"\"}}, \"title\": {\"x\": 0.05}, \"xaxis\": {\"automargin\": true, \"gridcolor\": \"white\", \"linecolor\": \"white\", \"ticks\": \"\", \"title\": {\"standoff\": 15}, \"zerolinecolor\": \"white\", \"zerolinewidth\": 2}, \"yaxis\": {\"automargin\": true, \"gridcolor\": \"white\", \"linecolor\": \"white\", \"ticks\": \"\", \"title\": {\"standoff\": 15}, \"zerolinecolor\": \"white\", \"zerolinewidth\": 2}}}, \"xaxis\": {\"rangeslider\": {\"visible\": false}}},\n",
              "                        {\"responsive\": true}\n",
              "                    ).then(function(){\n",
              "                            \n",
              "var gd = document.getElementById('9cfc2802-9736-4fe0-b7c7-12177d6b2606');\n",
              "var x = new MutationObserver(function (mutations, observer) {{\n",
              "        var display = window.getComputedStyle(gd).display;\n",
              "        if (!display || display === 'none') {{\n",
              "            console.log([gd, 'removed!']);\n",
              "            Plotly.purge(gd);\n",
              "            observer.disconnect();\n",
              "        }}\n",
              "}});\n",
              "\n",
              "// Listen for the removal of the full notebook cells\n",
              "var notebookContainer = gd.closest('#notebook-container');\n",
              "if (notebookContainer) {{\n",
              "    x.observe(notebookContainer, {childList: true});\n",
              "}}\n",
              "\n",
              "// Listen for the clearing of the current output cell\n",
              "var outputEl = gd.closest('.output');\n",
              "if (outputEl) {{\n",
              "    x.observe(outputEl, {childList: true});\n",
              "}}\n",
              "\n",
              "                        })\n",
              "                };\n",
              "                \n",
              "            </script>\n",
              "        </div>\n",
              "</body>\n",
              "</html>"
            ]
          },
          "metadata": {
            "tags": []
          }
        }
      ]
    },
    {
      "cell_type": "code",
      "metadata": {
        "id": "7HsSkQGRL6vN"
      },
      "source": [
        ""
      ],
      "execution_count": null,
      "outputs": []
    },
    {
      "cell_type": "markdown",
      "metadata": {
        "id": "ElUX6hGFIGFH"
      },
      "source": [
        "### Periodo desde o inicio do IPO do bitcoin "
      ]
    },
    {
      "cell_type": "code",
      "metadata": {
        "colab": {
          "base_uri": "https://localhost:8080/",
          "height": 402
        },
        "id": "uGsGhxChIGFH",
        "outputId": "aeb962b4-d96f-4f39-c8e8-47f9d8f1e484"
      },
      "source": [
        "DataSet=pd.read_csv('BTC-USD_ALL_TIME.csv')\n",
        "DataSet=DataSet.dropna()\n",
        "DataSet"
      ],
      "execution_count": 20,
      "outputs": [
        {
          "output_type": "execute_result",
          "data": {
            "text/html": [
              "<div>\n",
              "<style scoped>\n",
              "    .dataframe tbody tr th:only-of-type {\n",
              "        vertical-align: middle;\n",
              "    }\n",
              "\n",
              "    .dataframe tbody tr th {\n",
              "        vertical-align: top;\n",
              "    }\n",
              "\n",
              "    .dataframe thead th {\n",
              "        text-align: right;\n",
              "    }\n",
              "</style>\n",
              "<table border=\"1\" class=\"dataframe\">\n",
              "  <thead>\n",
              "    <tr style=\"text-align: right;\">\n",
              "      <th></th>\n",
              "      <th>Date</th>\n",
              "      <th>Open</th>\n",
              "      <th>High</th>\n",
              "      <th>Low</th>\n",
              "      <th>Close</th>\n",
              "      <th>Adj Close</th>\n",
              "      <th>Volume</th>\n",
              "    </tr>\n",
              "  </thead>\n",
              "  <tbody>\n",
              "    <tr>\n",
              "      <th>0</th>\n",
              "      <td>2014-09-17</td>\n",
              "      <td>465.864014</td>\n",
              "      <td>468.174011</td>\n",
              "      <td>452.421997</td>\n",
              "      <td>457.334015</td>\n",
              "      <td>457.334015</td>\n",
              "      <td>2.105680e+07</td>\n",
              "    </tr>\n",
              "    <tr>\n",
              "      <th>1</th>\n",
              "      <td>2014-09-18</td>\n",
              "      <td>456.859985</td>\n",
              "      <td>456.859985</td>\n",
              "      <td>413.104004</td>\n",
              "      <td>424.440002</td>\n",
              "      <td>424.440002</td>\n",
              "      <td>3.448320e+07</td>\n",
              "    </tr>\n",
              "    <tr>\n",
              "      <th>2</th>\n",
              "      <td>2014-09-19</td>\n",
              "      <td>424.102997</td>\n",
              "      <td>427.834991</td>\n",
              "      <td>384.532013</td>\n",
              "      <td>394.795990</td>\n",
              "      <td>394.795990</td>\n",
              "      <td>3.791970e+07</td>\n",
              "    </tr>\n",
              "    <tr>\n",
              "      <th>3</th>\n",
              "      <td>2014-09-20</td>\n",
              "      <td>394.673004</td>\n",
              "      <td>423.295990</td>\n",
              "      <td>389.882996</td>\n",
              "      <td>408.903992</td>\n",
              "      <td>408.903992</td>\n",
              "      <td>3.686360e+07</td>\n",
              "    </tr>\n",
              "    <tr>\n",
              "      <th>4</th>\n",
              "      <td>2014-09-21</td>\n",
              "      <td>408.084991</td>\n",
              "      <td>412.425995</td>\n",
              "      <td>393.181000</td>\n",
              "      <td>398.821014</td>\n",
              "      <td>398.821014</td>\n",
              "      <td>2.658010e+07</td>\n",
              "    </tr>\n",
              "    <tr>\n",
              "      <th>...</th>\n",
              "      <td>...</td>\n",
              "      <td>...</td>\n",
              "      <td>...</td>\n",
              "      <td>...</td>\n",
              "      <td>...</td>\n",
              "      <td>...</td>\n",
              "      <td>...</td>\n",
              "    </tr>\n",
              "    <tr>\n",
              "      <th>2399</th>\n",
              "      <td>2021-04-12</td>\n",
              "      <td>60175.945313</td>\n",
              "      <td>61253.035156</td>\n",
              "      <td>59589.875000</td>\n",
              "      <td>59893.453125</td>\n",
              "      <td>59893.453125</td>\n",
              "      <td>5.182869e+10</td>\n",
              "    </tr>\n",
              "    <tr>\n",
              "      <th>2400</th>\n",
              "      <td>2021-04-13</td>\n",
              "      <td>59890.019531</td>\n",
              "      <td>63742.285156</td>\n",
              "      <td>59869.957031</td>\n",
              "      <td>63503.457031</td>\n",
              "      <td>63503.457031</td>\n",
              "      <td>6.998345e+10</td>\n",
              "    </tr>\n",
              "    <tr>\n",
              "      <th>2401</th>\n",
              "      <td>2021-04-14</td>\n",
              "      <td>63523.753906</td>\n",
              "      <td>64863.097656</td>\n",
              "      <td>61554.796875</td>\n",
              "      <td>63109.695313</td>\n",
              "      <td>63109.695313</td>\n",
              "      <td>7.745178e+10</td>\n",
              "    </tr>\n",
              "    <tr>\n",
              "      <th>2402</th>\n",
              "      <td>2021-04-15</td>\n",
              "      <td>63075.195313</td>\n",
              "      <td>63821.671875</td>\n",
              "      <td>62208.964844</td>\n",
              "      <td>63314.011719</td>\n",
              "      <td>63314.011719</td>\n",
              "      <td>6.095438e+10</td>\n",
              "    </tr>\n",
              "    <tr>\n",
              "      <th>2403</th>\n",
              "      <td>2021-04-16</td>\n",
              "      <td>63258.503906</td>\n",
              "      <td>63594.722656</td>\n",
              "      <td>60222.531250</td>\n",
              "      <td>61572.789063</td>\n",
              "      <td>61572.789063</td>\n",
              "      <td>8.429301e+10</td>\n",
              "    </tr>\n",
              "  </tbody>\n",
              "</table>\n",
              "<p>2400 rows × 7 columns</p>\n",
              "</div>"
            ],
            "text/plain": [
              "            Date          Open  ...     Adj Close        Volume\n",
              "0     2014-09-17    465.864014  ...    457.334015  2.105680e+07\n",
              "1     2014-09-18    456.859985  ...    424.440002  3.448320e+07\n",
              "2     2014-09-19    424.102997  ...    394.795990  3.791970e+07\n",
              "3     2014-09-20    394.673004  ...    408.903992  3.686360e+07\n",
              "4     2014-09-21    408.084991  ...    398.821014  2.658010e+07\n",
              "...          ...           ...  ...           ...           ...\n",
              "2399  2021-04-12  60175.945313  ...  59893.453125  5.182869e+10\n",
              "2400  2021-04-13  59890.019531  ...  63503.457031  6.998345e+10\n",
              "2401  2021-04-14  63523.753906  ...  63109.695313  7.745178e+10\n",
              "2402  2021-04-15  63075.195313  ...  63314.011719  6.095438e+10\n",
              "2403  2021-04-16  63258.503906  ...  61572.789063  8.429301e+10\n",
              "\n",
              "[2400 rows x 7 columns]"
            ]
          },
          "metadata": {
            "tags": []
          },
          "execution_count": 20
        }
      ]
    },
    {
      "cell_type": "code",
      "metadata": {
        "colab": {
          "base_uri": "https://localhost:8080/",
          "height": 284
        },
        "id": "DkSIitroIGFI",
        "outputId": "dc29069f-d81d-4d6b-8379-feff0030a711"
      },
      "source": [
        "DataSet.describe()"
      ],
      "execution_count": 21,
      "outputs": [
        {
          "output_type": "execute_result",
          "data": {
            "text/html": [
              "<div>\n",
              "<style scoped>\n",
              "    .dataframe tbody tr th:only-of-type {\n",
              "        vertical-align: middle;\n",
              "    }\n",
              "\n",
              "    .dataframe tbody tr th {\n",
              "        vertical-align: top;\n",
              "    }\n",
              "\n",
              "    .dataframe thead th {\n",
              "        text-align: right;\n",
              "    }\n",
              "</style>\n",
              "<table border=\"1\" class=\"dataframe\">\n",
              "  <thead>\n",
              "    <tr style=\"text-align: right;\">\n",
              "      <th></th>\n",
              "      <th>Open</th>\n",
              "      <th>High</th>\n",
              "      <th>Low</th>\n",
              "      <th>Close</th>\n",
              "      <th>Adj Close</th>\n",
              "      <th>Volume</th>\n",
              "    </tr>\n",
              "  </thead>\n",
              "  <tbody>\n",
              "    <tr>\n",
              "      <th>count</th>\n",
              "      <td>2400.000000</td>\n",
              "      <td>2400.000000</td>\n",
              "      <td>2400.000000</td>\n",
              "      <td>2400.000000</td>\n",
              "      <td>2400.000000</td>\n",
              "      <td>2.400000e+03</td>\n",
              "    </tr>\n",
              "    <tr>\n",
              "      <th>mean</th>\n",
              "      <td>6780.803613</td>\n",
              "      <td>6971.723456</td>\n",
              "      <td>6587.710287</td>\n",
              "      <td>6805.160931</td>\n",
              "      <td>6805.160931</td>\n",
              "      <td>1.162130e+10</td>\n",
              "    </tr>\n",
              "    <tr>\n",
              "      <th>std</th>\n",
              "      <td>10112.349011</td>\n",
              "      <td>10436.785739</td>\n",
              "      <td>9787.653021</td>\n",
              "      <td>10170.827904</td>\n",
              "      <td>10170.827904</td>\n",
              "      <td>1.848013e+10</td>\n",
              "    </tr>\n",
              "    <tr>\n",
              "      <th>min</th>\n",
              "      <td>176.897003</td>\n",
              "      <td>211.731003</td>\n",
              "      <td>171.509995</td>\n",
              "      <td>178.102997</td>\n",
              "      <td>178.102997</td>\n",
              "      <td>5.914570e+06</td>\n",
              "    </tr>\n",
              "    <tr>\n",
              "      <th>25%</th>\n",
              "      <td>455.097260</td>\n",
              "      <td>459.254242</td>\n",
              "      <td>448.947510</td>\n",
              "      <td>455.068985</td>\n",
              "      <td>455.068985</td>\n",
              "      <td>6.751778e+07</td>\n",
              "    </tr>\n",
              "    <tr>\n",
              "      <th>50%</th>\n",
              "      <td>4098.749267</td>\n",
              "      <td>4210.345704</td>\n",
              "      <td>4007.764160</td>\n",
              "      <td>4106.032226</td>\n",
              "      <td>4106.032226</td>\n",
              "      <td>3.775635e+09</td>\n",
              "    </tr>\n",
              "    <tr>\n",
              "      <th>75%</th>\n",
              "      <td>8926.842774</td>\n",
              "      <td>9178.591064</td>\n",
              "      <td>8765.122070</td>\n",
              "      <td>8927.187256</td>\n",
              "      <td>8927.187256</td>\n",
              "      <td>1.757370e+10</td>\n",
              "    </tr>\n",
              "    <tr>\n",
              "      <th>max</th>\n",
              "      <td>63523.753906</td>\n",
              "      <td>64863.097656</td>\n",
              "      <td>62208.964844</td>\n",
              "      <td>63503.457031</td>\n",
              "      <td>63503.457031</td>\n",
              "      <td>3.509679e+11</td>\n",
              "    </tr>\n",
              "  </tbody>\n",
              "</table>\n",
              "</div>"
            ],
            "text/plain": [
              "               Open          High  ...     Adj Close        Volume\n",
              "count   2400.000000   2400.000000  ...   2400.000000  2.400000e+03\n",
              "mean    6780.803613   6971.723456  ...   6805.160931  1.162130e+10\n",
              "std    10112.349011  10436.785739  ...  10170.827904  1.848013e+10\n",
              "min      176.897003    211.731003  ...    178.102997  5.914570e+06\n",
              "25%      455.097260    459.254242  ...    455.068985  6.751778e+07\n",
              "50%     4098.749267   4210.345704  ...   4106.032226  3.775635e+09\n",
              "75%     8926.842774   9178.591064  ...   8927.187256  1.757370e+10\n",
              "max    63523.753906  64863.097656  ...  63503.457031  3.509679e+11\n",
              "\n",
              "[8 rows x 6 columns]"
            ]
          },
          "metadata": {
            "tags": []
          },
          "execution_count": 21
        }
      ]
    },
    {
      "cell_type": "markdown",
      "metadata": {
        "id": "jFIO91B7IGFI"
      },
      "source": [
        "### Inicialmente iremos criar uma RNN baseada apenas no Valor de Abertura"
      ]
    },
    {
      "cell_type": "code",
      "metadata": {
        "colab": {
          "base_uri": "https://localhost:8080/",
          "height": 265
        },
        "id": "0ckfhHxGIGFJ",
        "outputId": "6ec737ad-413b-4769-c036-374b0b36db65"
      },
      "source": [
        "plt.scatter(DataSet['Date'],DataSet['Open'],)\n",
        "plt.show()\n",
        "\n",
        "base_treinamento = DataSet.iloc[:, 1:2].values"
      ],
      "execution_count": 22,
      "outputs": [
        {
          "output_type": "display_data",
          "data": {
            "image/png": "[encoded data removed]",
            "text/plain": [
              "<Figure size 432x288 with 1 Axes>"
            ]
          },
          "metadata": {
            "tags": [],
            "needs_background": "light"
          }
        }
      ]
    },
    {
      "cell_type": "code",
      "metadata": {
        "id": "8JCr3vLtIGFJ",
        "outputId": "053dfa5a-05fc-4a05-a430-6758b57305ab"
      },
      "source": [
        "base_treinamento"
      ],
      "execution_count": null,
      "outputs": [
        {
          "output_type": "execute_result",
          "data": {
            "text/plain": [
              "array([[ 5.330769],\n",
              "       [ 5.388461],\n",
              "       [ 5.346153],\n",
              "       ...,\n",
              "       [38.125   ],\n",
              "       [37.919998],\n",
              "       [37.904999]])"
            ]
          },
          "metadata": {
            "tags": []
          },
          "execution_count": 49
        }
      ]
    },
    {
      "cell_type": "markdown",
      "metadata": {
        "id": "QOZ0eSdlIGFK"
      },
      "source": [
        "### Normalizar os dados da ação"
      ]
    },
    {
      "cell_type": "code",
      "metadata": {
        "id": "9jxpf8fpIGFK"
      },
      "source": [
        "from sklearn.preprocessing import MinMaxScaler\n",
        "scaler=MinMaxScaler(feature_range=(0,1))\n",
        "DataScaled=scaler.fit_transform(base_treinamento)"
      ],
      "execution_count": 23,
      "outputs": []
    },
    {
      "cell_type": "code",
      "metadata": {
        "colab": {
          "base_uri": "https://localhost:8080/",
          "height": 382
        },
        "id": "l63UNqnoIGFK",
        "outputId": "14754652-1eb1-4b42-a309-e4941de7fe49"
      },
      "source": [
        "plt.scatter(DataSet['Date'],DataScaled,)\n",
        "plt.show()\n",
        "print(DataScaled)"
      ],
      "execution_count": 24,
      "outputs": [
        {
          "output_type": "display_data",
          "data": {
            "image/png": "[encoded data removed]",
            "text/plain": [
              "<Figure size 432x288 with 1 Axes>"
            ]
          },
          "metadata": {
            "tags": [],
            "needs_background": "light"
          }
        },
        {
          "output_type": "stream",
          "text": [
            "[[0.00456166]\n",
            " [0.00441952]\n",
            " [0.00390242]\n",
            " ...\n",
            " [1.        ]\n",
            " [0.99291901]\n",
            " [0.99581274]]\n"
          ],
          "name": "stdout"
        }
      ]
    },
    {
      "cell_type": "markdown",
      "metadata": {
        "id": "-oVSeWoYIGFL"
      },
      "source": [
        "### Definição dos previsores"
      ]
    },
    {
      "cell_type": "code",
      "metadata": {
        "colab": {
          "base_uri": "https://localhost:8080/"
        },
        "id": "RIhqrdCJIGFL",
        "outputId": "6d2ab966-6792-4b43-dac0-8395140a20ac"
      },
      "source": [
        "previsores = []\n",
        "preco_real = []\n",
        "NRecursao = 90\n",
        "DataSetLen = len(DataScaled) #quantidade de dados no dataset\n",
        "print(DataSetLen)"
      ],
      "execution_count": 25,
      "outputs": [
        {
          "output_type": "stream",
          "text": [
            "2400\n"
          ],
          "name": "stdout"
        }
      ]
    },
    {
      "cell_type": "code",
      "metadata": {
        "id": "b6Yhku8bIGFM"
      },
      "source": [
        "\n",
        "for i in range(NRecursao, DataSetLen):\n",
        "    previsores.append(DataScaled[i-NRecursao:i,0])\n",
        "    preco_real.append(DataScaled[i,0])\n",
        "\n",
        "previsores, preco_real = np.array(previsores), np.array(preco_real)"
      ],
      "execution_count": 26,
      "outputs": []
    },
    {
      "cell_type": "code",
      "metadata": {
        "colab": {
          "base_uri": "https://localhost:8080/"
        },
        "id": "dvMNzKFzIGFM",
        "outputId": "b5439bba-a599-4b13-9b71-c3c368e449ed"
      },
      "source": [
        "previsores.shape"
      ],
      "execution_count": 27,
      "outputs": [
        {
          "output_type": "execute_result",
          "data": {
            "text/plain": [
              "(2310, 90)"
            ]
          },
          "metadata": {
            "tags": []
          },
          "execution_count": 27
        }
      ]
    },
    {
      "cell_type": "markdown",
      "metadata": {
        "id": "zeTym9VnOMJk"
      },
      "source": [
        "### Transformar para o formato do Tensor do Keras"
      ]
    },
    {
      "cell_type": "code",
      "metadata": {
        "id": "eiNVWXeTIGFN"
      },
      "source": [
        "previsores = np.reshape(previsores, (previsores.shape[0], previsores.shape[1], 1))"
      ],
      "execution_count": 29,
      "outputs": []
    },
    {
      "cell_type": "code",
      "metadata": {
        "colab": {
          "base_uri": "https://localhost:8080/"
        },
        "id": "lEm_KS2KIGFN",
        "outputId": "e858a697-d559-4578-91e9-bc434cdecd2f"
      },
      "source": [
        "previsores.shape"
      ],
      "execution_count": 30,
      "outputs": [
        {
          "output_type": "execute_result",
          "data": {
            "text/plain": [
              "(2310, 90, 1)"
            ]
          },
          "metadata": {
            "tags": []
          },
          "execution_count": 30
        }
      ]
    },
    {
      "cell_type": "markdown",
      "metadata": {
        "id": "lCpVqJDXIGFN"
      },
      "source": [
        "### Estrutura da Rede Neural"
      ]
    },
    {
      "cell_type": "code",
      "metadata": {
        "id": "kcLswPogIGFO"
      },
      "source": [
        "# Camada de entrada\n",
        "regressor = Sequential()\n",
        "regressor.add(LSTM(units = 100, return_sequences = True, input_shape = (previsores.shape[1], 1)))\n",
        "regressor.add(Dropout(0.3))\n",
        "\n",
        "# Cada Oculta 1\n",
        "regressor.add(LSTM(units = 50, return_sequences = True))\n",
        "regressor.add(Dropout(0.3))\n",
        "\n",
        "# Cada Oculta 2\n",
        "regressor.add(LSTM(units = 50, return_sequences = True))\n",
        "regressor.add(Dropout(0.3))\n",
        "\n",
        "# Cada Oculta 3\n",
        "regressor.add(LSTM(units = 50))\n",
        "regressor.add(Dropout(0.3))\n",
        "\n",
        "# Camada de Saída\n",
        "regressor.add(Dense(units = 1, activation = 'linear'))\n"
      ],
      "execution_count": 31,
      "outputs": []
    },
    {
      "cell_type": "markdown",
      "metadata": {
        "id": "QQqDn1A3IGFO"
      },
      "source": [
        "### Construindo a Rede"
      ]
    },
    {
      "cell_type": "code",
      "metadata": {
        "tags": [],
        "colab": {
          "base_uri": "https://localhost:8080/"
        },
        "id": "nFZOAWO7IGFO",
        "outputId": "6b579d8b-08da-4160-c019-ad1355bf9f3d"
      },
      "source": [
        "regressor.compile(optimizer = 'rmsprop', loss = 'mean_squared_error',\n",
        "                  metrics = ['mean_absolute_error'])\n",
        "regressor.fit(previsores, preco_real, epochs = 100, batch_size = 32)"
      ],
      "execution_count": 32,
      "outputs": [
        {
          "output_type": "stream",
          "text": [
            "Epoch 1/100\n",
            "73/73 [==============================] - 21s 194ms/step - loss: 0.0106 - mean_absolute_error: 0.0571\n",
            "Epoch 2/100\n",
            "73/73 [==============================] - 15s 211ms/step - loss: 0.0030 - mean_absolute_error: 0.0316\n",
            "Epoch 3/100\n",
            "73/73 [==============================] - 15s 207ms/step - loss: 0.0038 - mean_absolute_error: 0.0327\n",
            "Epoch 4/100\n",
            "73/73 [==============================] - 15s 206ms/step - loss: 0.0022 - mean_absolute_error: 0.0276\n",
            "Epoch 5/100\n",
            "73/73 [==============================] - 15s 205ms/step - loss: 0.0024 - mean_absolute_error: 0.0281\n",
            "Epoch 6/100\n",
            "73/73 [==============================] - 15s 210ms/step - loss: 0.0017 - mean_absolute_error: 0.0246\n",
            "Epoch 7/100\n",
            "73/73 [==============================] - 15s 210ms/step - loss: 0.0019 - mean_absolute_error: 0.0230\n",
            "Epoch 8/100\n",
            "73/73 [==============================] - 15s 205ms/step - loss: 0.0018 - mean_absolute_error: 0.0234\n",
            "Epoch 9/100\n",
            "73/73 [==============================] - 15s 211ms/step - loss: 0.0015 - mean_absolute_error: 0.0226\n",
            "Epoch 10/100\n",
            "73/73 [==============================] - 15s 207ms/step - loss: 0.0014 - mean_absolute_error: 0.0215\n",
            "Epoch 11/100\n",
            "73/73 [==============================] - 15s 205ms/step - loss: 0.0013 - mean_absolute_error: 0.0208\n",
            "Epoch 12/100\n",
            "73/73 [==============================] - 15s 205ms/step - loss: 0.0014 - mean_absolute_error: 0.0201\n",
            "Epoch 13/100\n",
            "73/73 [==============================] - 15s 208ms/step - loss: 0.0015 - mean_absolute_error: 0.0219\n",
            "Epoch 14/100\n",
            "73/73 [==============================] - 15s 207ms/step - loss: 0.0012 - mean_absolute_error: 0.0203\n",
            "Epoch 15/100\n",
            "73/73 [==============================] - 15s 206ms/step - loss: 0.0011 - mean_absolute_error: 0.0193\n",
            "Epoch 16/100\n",
            "73/73 [==============================] - 15s 205ms/step - loss: 8.2355e-04 - mean_absolute_error: 0.0170\n",
            "Epoch 17/100\n",
            "73/73 [==============================] - 15s 204ms/step - loss: 0.0014 - mean_absolute_error: 0.0218\n",
            "Epoch 18/100\n",
            "73/73 [==============================] - 15s 209ms/step - loss: 0.0010 - mean_absolute_error: 0.0183\n",
            "Epoch 19/100\n",
            "73/73 [==============================] - 15s 208ms/step - loss: 9.8817e-04 - mean_absolute_error: 0.0178\n",
            "Epoch 20/100\n",
            "73/73 [==============================] - 15s 210ms/step - loss: 0.0011 - mean_absolute_error: 0.0186\n",
            "Epoch 21/100\n",
            "73/73 [==============================] - 15s 210ms/step - loss: 0.0014 - mean_absolute_error: 0.0199\n",
            "Epoch 22/100\n",
            "73/73 [==============================] - 15s 208ms/step - loss: 8.0480e-04 - mean_absolute_error: 0.0174\n",
            "Epoch 23/100\n",
            "73/73 [==============================] - 15s 207ms/step - loss: 0.0010 - mean_absolute_error: 0.0190\n",
            "Epoch 24/100\n",
            "73/73 [==============================] - 15s 210ms/step - loss: 9.8378e-04 - mean_absolute_error: 0.0184\n",
            "Epoch 25/100\n",
            "73/73 [==============================] - 15s 206ms/step - loss: 7.6579e-04 - mean_absolute_error: 0.0159\n",
            "Epoch 26/100\n",
            "73/73 [==============================] - 15s 207ms/step - loss: 9.4692e-04 - mean_absolute_error: 0.0181\n",
            "Epoch 27/100\n",
            "73/73 [==============================] - 15s 205ms/step - loss: 0.0012 - mean_absolute_error: 0.0185\n",
            "Epoch 28/100\n",
            "73/73 [==============================] - 15s 210ms/step - loss: 0.0011 - mean_absolute_error: 0.0182\n",
            "Epoch 29/100\n",
            "73/73 [==============================] - 15s 207ms/step - loss: 9.5143e-04 - mean_absolute_error: 0.0174\n",
            "Epoch 30/100\n",
            "73/73 [==============================] - 15s 205ms/step - loss: 8.2620e-04 - mean_absolute_error: 0.0170\n",
            "Epoch 31/100\n",
            "73/73 [==============================] - 15s 209ms/step - loss: 8.2689e-04 - mean_absolute_error: 0.0167\n",
            "Epoch 32/100\n",
            "73/73 [==============================] - 15s 208ms/step - loss: 0.0011 - mean_absolute_error: 0.0173\n",
            "Epoch 33/100\n",
            "73/73 [==============================] - 15s 206ms/step - loss: 6.8051e-04 - mean_absolute_error: 0.0161\n",
            "Epoch 34/100\n",
            "73/73 [==============================] - 15s 208ms/step - loss: 7.7206e-04 - mean_absolute_error: 0.0175\n",
            "Epoch 35/100\n",
            "73/73 [==============================] - 16s 213ms/step - loss: 6.2374e-04 - mean_absolute_error: 0.0152\n",
            "Epoch 36/100\n",
            "73/73 [==============================] - 16s 213ms/step - loss: 8.2036e-04 - mean_absolute_error: 0.0175\n",
            "Epoch 37/100\n",
            "73/73 [==============================] - 15s 206ms/step - loss: 8.2630e-04 - mean_absolute_error: 0.0161\n",
            "Epoch 38/100\n",
            "73/73 [==============================] - 16s 212ms/step - loss: 8.4195e-04 - mean_absolute_error: 0.0165\n",
            "Epoch 39/100\n",
            "73/73 [==============================] - 15s 206ms/step - loss: 6.3255e-04 - mean_absolute_error: 0.0154\n",
            "Epoch 40/100\n",
            "73/73 [==============================] - 15s 207ms/step - loss: 8.8065e-04 - mean_absolute_error: 0.0173\n",
            "Epoch 41/100\n",
            "73/73 [==============================] - 15s 207ms/step - loss: 7.2331e-04 - mean_absolute_error: 0.0149\n",
            "Epoch 42/100\n",
            "73/73 [==============================] - 15s 205ms/step - loss: 7.8498e-04 - mean_absolute_error: 0.0163\n",
            "Epoch 43/100\n",
            "73/73 [==============================] - 16s 213ms/step - loss: 7.1299e-04 - mean_absolute_error: 0.0160\n",
            "Epoch 44/100\n",
            "73/73 [==============================] - 15s 209ms/step - loss: 7.6049e-04 - mean_absolute_error: 0.0160\n",
            "Epoch 45/100\n",
            "73/73 [==============================] - 16s 212ms/step - loss: 6.9102e-04 - mean_absolute_error: 0.0162\n",
            "Epoch 46/100\n",
            "73/73 [==============================] - 16s 214ms/step - loss: 6.8861e-04 - mean_absolute_error: 0.0156\n",
            "Epoch 47/100\n",
            "73/73 [==============================] - 15s 208ms/step - loss: 6.9095e-04 - mean_absolute_error: 0.0153\n",
            "Epoch 48/100\n",
            "73/73 [==============================] - 15s 205ms/step - loss: 6.1879e-04 - mean_absolute_error: 0.0148\n",
            "Epoch 49/100\n",
            "73/73 [==============================] - 15s 211ms/step - loss: 5.5760e-04 - mean_absolute_error: 0.0153\n",
            "Epoch 50/100\n",
            "73/73 [==============================] - 16s 213ms/step - loss: 8.1863e-04 - mean_absolute_error: 0.0151\n",
            "Epoch 51/100\n",
            "73/73 [==============================] - 15s 206ms/step - loss: 0.0010 - mean_absolute_error: 0.0161\n",
            "Epoch 52/100\n",
            "73/73 [==============================] - 15s 207ms/step - loss: 6.0467e-04 - mean_absolute_error: 0.0147\n",
            "Epoch 53/100\n",
            "73/73 [==============================] - 15s 207ms/step - loss: 8.0623e-04 - mean_absolute_error: 0.0155\n",
            "Epoch 54/100\n",
            "73/73 [==============================] - 15s 208ms/step - loss: 7.0114e-04 - mean_absolute_error: 0.0145\n",
            "Epoch 55/100\n",
            "73/73 [==============================] - 15s 212ms/step - loss: 5.8800e-04 - mean_absolute_error: 0.0148\n",
            "Epoch 56/100\n",
            "73/73 [==============================] - 15s 210ms/step - loss: 6.9554e-04 - mean_absolute_error: 0.0149\n",
            "Epoch 57/100\n",
            "73/73 [==============================] - 15s 211ms/step - loss: 7.4049e-04 - mean_absolute_error: 0.0153\n",
            "Epoch 58/100\n",
            "73/73 [==============================] - 15s 210ms/step - loss: 6.5386e-04 - mean_absolute_error: 0.0148\n",
            "Epoch 59/100\n",
            "73/73 [==============================] - 15s 212ms/step - loss: 8.4163e-04 - mean_absolute_error: 0.0152\n",
            "Epoch 60/100\n",
            "73/73 [==============================] - 15s 212ms/step - loss: 7.9330e-04 - mean_absolute_error: 0.0156\n",
            "Epoch 61/100\n",
            "73/73 [==============================] - 15s 207ms/step - loss: 6.5868e-04 - mean_absolute_error: 0.0157\n",
            "Epoch 62/100\n",
            "73/73 [==============================] - 15s 206ms/step - loss: 6.5823e-04 - mean_absolute_error: 0.0148\n",
            "Epoch 63/100\n",
            "73/73 [==============================] - 15s 212ms/step - loss: 8.5535e-04 - mean_absolute_error: 0.0165\n",
            "Epoch 64/100\n",
            "73/73 [==============================] - 15s 211ms/step - loss: 6.9067e-04 - mean_absolute_error: 0.0152\n",
            "Epoch 65/100\n",
            "73/73 [==============================] - 15s 209ms/step - loss: 6.4487e-04 - mean_absolute_error: 0.0154\n",
            "Epoch 66/100\n",
            "73/73 [==============================] - 15s 212ms/step - loss: 6.6842e-04 - mean_absolute_error: 0.0150\n",
            "Epoch 67/100\n",
            "73/73 [==============================] - 15s 211ms/step - loss: 6.9219e-04 - mean_absolute_error: 0.0157\n",
            "Epoch 68/100\n",
            "73/73 [==============================] - 15s 205ms/step - loss: 6.6380e-04 - mean_absolute_error: 0.0151\n",
            "Epoch 69/100\n",
            "73/73 [==============================] - 15s 206ms/step - loss: 6.4792e-04 - mean_absolute_error: 0.0146\n",
            "Epoch 70/100\n",
            "73/73 [==============================] - 15s 206ms/step - loss: 8.3649e-04 - mean_absolute_error: 0.0155\n",
            "Epoch 71/100\n",
            "73/73 [==============================] - 15s 206ms/step - loss: 6.4044e-04 - mean_absolute_error: 0.0144\n",
            "Epoch 72/100\n",
            "73/73 [==============================] - 15s 206ms/step - loss: 5.6243e-04 - mean_absolute_error: 0.0144\n",
            "Epoch 73/100\n",
            "73/73 [==============================] - 15s 207ms/step - loss: 6.2377e-04 - mean_absolute_error: 0.0152\n",
            "Epoch 74/100\n",
            "73/73 [==============================] - 16s 213ms/step - loss: 7.4088e-04 - mean_absolute_error: 0.0147\n",
            "Epoch 75/100\n",
            "73/73 [==============================] - 16s 213ms/step - loss: 6.4769e-04 - mean_absolute_error: 0.0152\n",
            "Epoch 76/100\n",
            "73/73 [==============================] - 15s 209ms/step - loss: 6.0461e-04 - mean_absolute_error: 0.0142\n",
            "Epoch 77/100\n",
            "73/73 [==============================] - 16s 212ms/step - loss: 7.1000e-04 - mean_absolute_error: 0.0148\n",
            "Epoch 78/100\n",
            "73/73 [==============================] - 15s 210ms/step - loss: 5.0129e-04 - mean_absolute_error: 0.0134\n",
            "Epoch 79/100\n",
            "73/73 [==============================] - 15s 206ms/step - loss: 7.6421e-04 - mean_absolute_error: 0.0154\n",
            "Epoch 80/100\n",
            "73/73 [==============================] - 15s 206ms/step - loss: 7.2067e-04 - mean_absolute_error: 0.0146\n",
            "Epoch 81/100\n",
            "73/73 [==============================] - 15s 206ms/step - loss: 6.4176e-04 - mean_absolute_error: 0.0145\n",
            "Epoch 82/100\n",
            "73/73 [==============================] - 15s 206ms/step - loss: 7.4063e-04 - mean_absolute_error: 0.0153\n",
            "Epoch 83/100\n",
            "73/73 [==============================] - 15s 209ms/step - loss: 6.8494e-04 - mean_absolute_error: 0.0144\n",
            "Epoch 84/100\n",
            "73/73 [==============================] - 15s 208ms/step - loss: 6.6836e-04 - mean_absolute_error: 0.0146\n",
            "Epoch 85/100\n",
            "73/73 [==============================] - 15s 208ms/step - loss: 6.3001e-04 - mean_absolute_error: 0.0141\n",
            "Epoch 86/100\n",
            "73/73 [==============================] - 15s 207ms/step - loss: 5.0102e-04 - mean_absolute_error: 0.0134\n",
            "Epoch 87/100\n",
            "73/73 [==============================] - 15s 207ms/step - loss: 6.0048e-04 - mean_absolute_error: 0.0145\n",
            "Epoch 88/100\n",
            "73/73 [==============================] - 15s 210ms/step - loss: 4.4908e-04 - mean_absolute_error: 0.0131\n",
            "Epoch 89/100\n",
            "73/73 [==============================] - 15s 212ms/step - loss: 5.1304e-04 - mean_absolute_error: 0.0136\n",
            "Epoch 90/100\n",
            "73/73 [==============================] - 15s 212ms/step - loss: 7.4040e-04 - mean_absolute_error: 0.0150\n",
            "Epoch 91/100\n",
            "73/73 [==============================] - 15s 210ms/step - loss: 5.1306e-04 - mean_absolute_error: 0.0133\n",
            "Epoch 92/100\n",
            "73/73 [==============================] - 15s 211ms/step - loss: 7.3986e-04 - mean_absolute_error: 0.0152\n",
            "Epoch 93/100\n",
            "73/73 [==============================] - 15s 211ms/step - loss: 6.7917e-04 - mean_absolute_error: 0.0150\n",
            "Epoch 94/100\n",
            "73/73 [==============================] - 15s 211ms/step - loss: 5.4839e-04 - mean_absolute_error: 0.0135\n",
            "Epoch 95/100\n",
            "73/73 [==============================] - 15s 206ms/step - loss: 7.0259e-04 - mean_absolute_error: 0.0149\n",
            "Epoch 96/100\n",
            "73/73 [==============================] - 15s 209ms/step - loss: 5.7765e-04 - mean_absolute_error: 0.0135\n",
            "Epoch 97/100\n",
            "73/73 [==============================] - 15s 210ms/step - loss: 7.1756e-04 - mean_absolute_error: 0.0149\n",
            "Epoch 98/100\n",
            "73/73 [==============================] - 15s 205ms/step - loss: 6.2098e-04 - mean_absolute_error: 0.0141\n",
            "Epoch 99/100\n",
            "73/73 [==============================] - 15s 206ms/step - loss: 5.6852e-04 - mean_absolute_error: 0.0136\n",
            "Epoch 100/100\n",
            "73/73 [==============================] - 15s 206ms/step - loss: 5.1427e-04 - mean_absolute_error: 0.0133\n"
          ],
          "name": "stdout"
        },
        {
          "output_type": "execute_result",
          "data": {
            "text/plain": [
              "<tensorflow.python.keras.callbacks.History at 0x7fc170eab950>"
            ]
          },
          "metadata": {
            "tags": []
          },
          "execution_count": 32
        }
      ]
    },
    {
      "cell_type": "markdown",
      "metadata": {
        "id": "smWPyJzpIGFP"
      },
      "source": [
        "### Conjunto de dados para o Teste"
      ]
    },
    {
      "cell_type": "code",
      "metadata": {
        "id": "2J-8DSoJIGFP"
      },
      "source": [
        "DataSet_teste=pd.read_csv('BTC-USD_LAST_30_DAYS.csv')\n",
        "\n",
        "preco_real_teste = DataSet_teste.iloc[:, 1:2].values\n",
        "\n",
        "base_completa = pd.concat((DataSet['Open'], DataSet_teste['Open']), axis = 0)\n",
        "entradas = base_completa[len(base_completa) - len(DataSet_teste) - NRecursao:].values\n",
        "\n",
        "entradas = entradas.reshape(-1, 1)\n",
        "entradas = scaler.transform(entradas)"
      ],
      "execution_count": 33,
      "outputs": []
    },
    {
      "cell_type": "code",
      "metadata": {
        "id": "LJZBNj8bIGFQ"
      },
      "source": [
        "DataSetTestLen = len(DataSet_teste)\n",
        "NPredictions = 90\n",
        "\n",
        "X_teste = []\n",
        "for i in range(NRecursao, DataSetTestLen+NRecursao):\n",
        "    X_teste.append(entradas[i-NRecursao:i, 0])\n",
        "    \n",
        "X_teste = np.array(X_teste)\n",
        "X_teste = np.reshape(X_teste, (X_teste.shape[0], X_teste.shape[1], 1))\n",
        "\n",
        "previsoes = regressor.predict(X_teste)\n",
        "previsoes = scaler.inverse_transform(previsoes)\n"
      ],
      "execution_count": 34,
      "outputs": []
    },
    {
      "cell_type": "code",
      "metadata": {
        "colab": {
          "base_uri": "https://localhost:8080/"
        },
        "id": "jEXbhv_qIGFQ",
        "outputId": "65e69c9c-b8b8-4907-97e7-5b151a6e2ab8"
      },
      "source": [
        "RNN=[]\n",
        "predictions_teste=X_teste[0].T\n",
        "predictions_teste=np.reshape(predictions_teste, (predictions_teste.shape[0], predictions_teste.shape[1], 1))\n",
        "\n",
        "predictions_teste[0][NRecursao-1][0]=regressor.predict(predictions_teste)[0][0]\n",
        "RNN.append(regressor.predict(predictions_teste)[0])\n",
        "\n",
        "for i in range(NPredictions-1):\n",
        "    predictions_teste=np.roll(predictions_teste,-1)\n",
        "    predictions_teste[0][NRecursao-1][0]=regressor.predict(predictions_teste)[0][0]\n",
        "    RNN.append(regressor.predict(predictions_teste)[0])\n",
        "RNN = scaler.inverse_transform(RNN)\n",
        "\n",
        "print(RNN.mean())\n",
        "print(previsoes.mean())\n",
        "print(preco_real_teste.mean())"
      ],
      "execution_count": 35,
      "outputs": [
        {
          "output_type": "stream",
          "text": [
            "52884.49341071593\n",
            "55911.254\n",
            "54512.01386112903\n"
          ],
          "name": "stdout"
        }
      ]
    },
    {
      "cell_type": "code",
      "metadata": {
        "colab": {
          "base_uri": "https://localhost:8080/",
          "height": 295
        },
        "id": "CLbonMOjIGFR",
        "outputId": "fd48d2b8-2fde-4eb8-e9e1-c1b484bbf65a"
      },
      "source": [
        "plt.plot(preco_real_teste, color = 'red', label = 'Preço real')\n",
        "plt.plot(previsoes, color = 'blue', label = 'Previsões')\n",
        "\n",
        "plt.title('BTC-USD')\n",
        "plt.xlabel('Tempo')\n",
        "plt.ylabel('Valor')\n",
        "plt.legend()\n",
        "plt.show()"
      ],
      "execution_count": 36,
      "outputs": [
        {
          "output_type": "display_data",
          "data": {
            "image/png": "[encoded data removed]",
            "text/plain": [
              "<Figure size 432x288 with 1 Axes>"
            ]
          },
          "metadata": {
            "tags": [],
            "needs_background": "light"
          }
        }
      ]
    },
    {
      "cell_type": "code",
      "metadata": {
        "id": "uU670zYnIGFR"
      },
      "source": [
        ""
      ],
      "execution_count": null,
      "outputs": []
    }
  ]
}